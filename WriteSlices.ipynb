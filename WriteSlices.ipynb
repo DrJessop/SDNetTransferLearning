{
 "cells": [
  {
   "cell_type": "code",
   "execution_count": 16,
   "metadata": {},
   "outputs": [],
   "source": [
    "import os \n",
    "import SimpleITK as sitk\n",
    "combined_folder = \"/home/andrewg/PycharmProjects/assignments/merged_data/brain/combined\"\n",
    "destination = \"/home/andrewg/PycharmProjects/assignments/merged_data/brain/combined_slices_separate\"\n",
    "\n",
    "ds = 20  # How many slices you want\n",
    "\n",
    "os.chdir(combined_folder)\n",
    "for f in os.listdir():\n",
    "    im = sitk.ReadImage(f)\n",
    "    starting_point = im.GetSize()[2]//2 - ds//2\n",
    "    slices = [im[:, :, slice_id] for slice_id in range(starting_point, starting_point + ds)]\n",
    "    for idx, s in enumerate(slices):\n",
    "        sitk.WriteImage(s, \"{}/{}_{}.nrrd\".format(destination, f.split('.')[0], idx))"
   ]
  }
 ],
 "metadata": {
  "kernelspec": {
   "display_name": "Python 3",
   "language": "python",
   "name": "python3"
  },
  "language_info": {
   "codemirror_mode": {
    "name": "ipython",
    "version": 3
   },
   "file_extension": ".py",
   "mimetype": "text/x-python",
   "name": "python",
   "nbconvert_exporter": "python",
   "pygments_lexer": "ipython3",
   "version": "3.6.7"
  }
 },
 "nbformat": 4,
 "nbformat_minor": 2
}
