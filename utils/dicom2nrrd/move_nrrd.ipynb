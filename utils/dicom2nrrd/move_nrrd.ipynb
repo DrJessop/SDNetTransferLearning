{
 "cells": [
  {
   "cell_type": "code",
   "execution_count": 10,
   "metadata": {},
   "outputs": [],
   "source": [
    "from pathlib import Path\n",
    "import os\n",
    "import shutil\n",
    "import SimpleITK as sitk"
   ]
  },
  {
   "cell_type": "code",
   "execution_count": 11,
   "metadata": {},
   "outputs": [],
   "source": [
    "t2_dir = Path(\"/home/sedghi/Desktop/PROSTATE-DIAGNOSIS_nrrd\")\n",
    "output_dir = Path(\"/home/sedghi/Desktop/andrew_extra_t2\")"
   ]
  },
  {
   "cell_type": "code",
   "execution_count": 12,
   "metadata": {},
   "outputs": [],
   "source": [
    "exclude_patient = \"PCAD_103\"\n"
   ]
  },
  {
   "cell_type": "code",
   "execution_count": 13,
   "metadata": {},
   "outputs": [],
   "source": [
    "t2_pcads = list(t2_dir.glob(\"*\"))\n",
    "t2_pcads = [p for p in t2_pcads if exclude_patient not in p.stem]\n",
    "\n",
    "for pcad in t2_pcads:\n",
    "    t2_path = list(pcad.rglob(\"*.nii.gz\"))\n",
    "    if len(t2_path) !=1:\n",
    "        print(pcad)\n",
    "    else:\n",
    "        t2 = sitk.ReadImage(str(t2_path[0]))\n",
    "        sitk.WriteImage(t2, str(output_dir/\"{}_T2.nrrd\").format(t2_path[0].parents[1].stem))"
   ]
  },
  {
   "cell_type": "code",
   "execution_count": 17,
   "metadata": {},
   "outputs": [],
   "source": [
    "adc_pcads = list(adc_dir.glob(\"*\"))\n",
    "adc_pcads = [p for p in adc_pcads if exclude_patient not in p.stem]\n",
    "\n",
    "for pcad in adc_pcads:\n",
    "    adc_path = list(pcad.rglob(\"*.nii.gz\"))\n",
    "    assert len(adc_path)==1\n",
    "    adc = sitk.ReadImage(str(adc_path[0]))\n",
    "    sitk.WriteImage(adc, str(output_dir/\"{}_adc.nrrd\").format(adc_path[0].parents[1].stem))"
   ]
  },
  {
   "cell_type": "code",
   "execution_count": 6,
   "metadata": {},
   "outputs": [],
   "source": [
    "pred_dir = Path(\"/home/sedghi/projects/teus_em/predict\")"
   ]
  },
  {
   "cell_type": "code",
   "execution_count": 9,
   "metadata": {},
   "outputs": [
    {
     "data": {
      "text/plain": [
       "[PosixPath('/home/sedghi/projects/teus_em/predict/2020_02_20_03_37_15_forGodSake_Attn_shared_2020_02_20_09_07_59_test_area_14'),\n",
       " PosixPath('/home/sedghi/projects/teus_em/predict/2020_02_21_03_19_12_ILoveResearch_attn_shared_2020_02_21_10_07_45_test_area_13_NNN_72_77_77'),\n",
       " PosixPath('/home/sedghi/projects/teus_em/predict/2020_02_05_06_27_38_integration_shared_2020_02_05_09_57_20_test_area_14'),\n",
       " PosixPath('/home/sedghi/projects/teus_em/predict/2020_02_04_16_05_24_integration2d_2020_02_04_16_07_47_test_area_13'),\n",
       " PosixPath('/home/sedghi/projects/teus_em/predict/2020_02_20_06_12_29_forGodSake_Attn_shared_2020_02_20_09_09_40_test_area_14'),\n",
       " PosixPath('/home/sedghi/projects/teus_em/predict/2020_02_21_02_15_17_ILoveResearch_attn_shared_2020_02_21_10_08_27_test_area_14_NNN_71_76_86'),\n",
       " PosixPath('/home/sedghi/projects/teus_em/predict/2020_02_19_23_54_13_forGodSake_Attn_shared_2020_02_20_09_08_36_test_area_14'),\n",
       " PosixPath('/home/sedghi/projects/teus_em/predict/2020_02_04_20_49_08_attn_integration_2020_02_05_16_47_23_test_area_13'),\n",
       " PosixPath('/home/sedghi/projects/teus_em/predict/2020_02_20_02_55_33_forGodSake_Attn_shared_2020_02_20_09_09_34_test_area_14'),\n",
       " PosixPath('/home/sedghi/projects/teus_em/predict/2020_02_19_17_32_45_attn_integration_shared_2020_02_19_17_38_38_test_area_13'),\n",
       " PosixPath('/home/sedghi/projects/teus_em/predict/2020_02_21_04_16_58_IloveResearch_attn_integ_shared_2020_02_21_09_03_12_test_area_12'),\n",
       " PosixPath('/home/sedghi/projects/teus_em/predict/2020_02_21_08_11_30_ILoveResearch_attn_shared_2020_02_21_10_06_07_test_area_14_NNN'),\n",
       " PosixPath('/home/sedghi/projects/teus_em/predict/2020_02_20_10_45_48_MRMR_2020_02_20_10_55_21_test_area_14'),\n",
       " PosixPath('/home/sedghi/projects/teus_em/predict/2020_02_20_10_00_27_forGodSake_Attn_sharedv2_2020_02_20_10_19_23_test_area_14'),\n",
       " PosixPath('/home/sedghi/projects/teus_em/predict/2019_11_15_04_25_58_integration_unet_2019_11_15_11_13_32_test_area_14_BEST'),\n",
       " PosixPath('/home/sedghi/projects/teus_em/predict/2020_02_20_23_23_24_IloveResearch_attn_integ_shared_2020_02_21_09_06_27_test_area_13'),\n",
       " PosixPath('/home/sedghi/projects/teus_em/predict/2020_02_20_20_28_31_attn_integration_shared_ForA_2020_02_20_20_40_31_test_area_8.'),\n",
       " PosixPath('/home/sedghi/projects/teus_em/predict/2020_02_22_07_03_33_MohammadAli_integ_shared_2020_02_22_13_00_44_test_area_10_NN'),\n",
       " PosixPath('/home/sedghi/projects/teus_em/predict/2020_02_21_06_42_04_ILoveResearch_attn_shared_2020_02_21_10_14_38_test_area_13_NNN'),\n",
       " PosixPath('/home/sedghi/projects/teus_em/predict/2019_11_15_00_09_33_integration_unet_2019_11_15_11_12_07_test_area_14_good'),\n",
       " PosixPath('/home/sedghi/projects/teus_em/predict/2020_02_20_09_40_24_forGodSake_Attn_sharedv2_2020_02_20_10_19_22_test_area_14'),\n",
       " PosixPath('/home/sedghi/projects/teus_em/predict/2020_02_04_19_26_06_integration_shared_2020_02_05_09_58_27_test_area_14'),\n",
       " PosixPath('/home/sedghi/projects/teus_em/predict/2020_02_22_04_27_43_MohammadAli_integ_shared_2020_02_22_13_08_57_test_area_13_NN_good'),\n",
       " PosixPath('/home/sedghi/projects/teus_em/predict/2020_02_21_01_57_29_ILoveResearch_attn_shared_2020_02_21_10_12_04_test_area_14_NNN'),\n",
       " PosixPath('/home/sedghi/projects/teus_em/predict/2020_02_19_17_19_07_attn_integration_shared_2020_02_19_17_33_22_test_area_14'),\n",
       " PosixPath('/home/sedghi/projects/teus_em/predict/2020_02_20_01_00_51_GodSake_attn_integration_shared_2020_02_20_13_32_04_test_area_14'),\n",
       " PosixPath('/home/sedghi/projects/teus_em/predict/2020_02_21_04_37_58_IloveResearch_attn_integ_shared_2020_02_21_09_55_57_test_area_14_NN_75_83_91'),\n",
       " PosixPath('/home/sedghi/projects/teus_em/predict/2020_02_19_16_52_15_attn_integration_shared_2020_02_19_17_07_58_test_area_14'),\n",
       " PosixPath('/home/sedghi/projects/teus_em/predict/2020_02_21_02_05_51_IloveResearch_attn_integ_shared_2020_02_21_09_00_45_test_area_15'),\n",
       " PosixPath('/home/sedghi/projects/teus_em/predict/2019_11_15_07_21_43_integration_unet_2019_11_15_10_41_06_test_area_14_good'),\n",
       " PosixPath('/home/sedghi/projects/teus_em/predict/2020_02_19_18_05_42_fun_2020_02_19_18_09_22_test_area_14'),\n",
       " PosixPath('/home/sedghi/projects/teus_em/predict/2020_02_19_22_44_41_forGodSake_Attn_shared_2020_02_20_09_09_49_test_area_14'),\n",
       " PosixPath('/home/sedghi/projects/teus_em/predict/2020_02_05_14_58_50_attn_integration_2020_02_05_16_20_14_test_area_14_good'),\n",
       " PosixPath('/home/sedghi/projects/teus_em/predict/2019_11_15_07_49_52_integration_unet_2019_11_15_10_45_19_test_area_14_good'),\n",
       " PosixPath('/home/sedghi/projects/teus_em/predict/2020_02_21_06_25_03_IloveResearch_attn_integ_shared_2020_02_21_10_08_02_test_area_12_NN_73_75_76_goodcolor'),\n",
       " PosixPath('/home/sedghi/projects/teus_em/predict/2020_02_21_05_55_31_IloveResearch_attn_integ_shared_2020_02_21_09_03_21_test_area_13'),\n",
       " PosixPath('/home/sedghi/projects/teus_em/predict/2020_02_19_19_56_45_fun_2020_02_19_20_11_22_test_area_13'),\n",
       " PosixPath('/home/sedghi/projects/teus_em/predict/2020_02_05_12_47_43_attn_integration_2020_02_10_10_06_35_test_area_14_good'),\n",
       " PosixPath('/home/sedghi/projects/teus_em/predict/2020_02_20_13_48_13_letsgo_2020_02_20_13_56_40_test_area_10'),\n",
       " PosixPath('/home/sedghi/projects/teus_em/predict/2020_02_20_05_58_25_forGodSake_Attn_shared_2020_02_20_09_08_34_test_area_14'),\n",
       " PosixPath('/home/sedghi/projects/teus_em/predict/2020_02_21_05_34_36_IloveResearch_attn_integ_shared_2020_02_21_08_58_07_test_area_12'),\n",
       " PosixPath('/home/sedghi/projects/teus_em/predict/2020_02_21_18_22_58_MohammadAli_integ_shared_2020_02_22_12_40_21_test_area_14_NN'),\n",
       " PosixPath('/home/sedghi/projects/teus_em/predict/2020_02_05_04_58_44_integration_shared_2020_02_05_09_49_33_test_area_14_0p71'),\n",
       " PosixPath('/home/sedghi/projects/teus_em/predict/2020_02_04_15_57_32_integration2d_2020_02_04_16_01_31_test_area_10'),\n",
       " PosixPath('/home/sedghi/projects/teus_em/predict/2020_02_05_14_58_50_attn_integration_2020_02_10_09_35_07_test_area_14_gooood'),\n",
       " PosixPath('/home/sedghi/projects/teus_em/predict/2020_02_19_16_56_43_attn_integration_shared_2020_02_19_17_05_25_test_area_10'),\n",
       " PosixPath('/home/sedghi/projects/teus_em/predict/2020_02_21_08_29_01_IloveResearch_attn_integ_shared_2020_02_21_09_01_31_test_area_13'),\n",
       " PosixPath('/home/sedghi/projects/teus_em/predict/2020_02_04_15_38_38_integration2d_shared_2020_02_04_15_41_03_test_area_13'),\n",
       " PosixPath('/home/sedghi/projects/teus_em/predict/2020_02_21_00_37_09_IloveResearch_attn_integ_shared_2020_02_21_08_55_29_test_area_12'),\n",
       " PosixPath('/home/sedghi/projects/teus_em/predict/2020_02_19_03_10_00_attn_shared_2020_02_19_13_34_53_test_area_11'),\n",
       " PosixPath('/home/sedghi/projects/teus_em/predict/2020_02_05_03_06_27_attn_integration_2020_02_05_16_15_50_test_area_14'),\n",
       " PosixPath('/home/sedghi/projects/teus_em/predict/2020_02_20_06_53_27_forGodSake_Attn_shared_2020_02_20_09_08_17_test_area_14'),\n",
       " PosixPath('/home/sedghi/projects/teus_em/predict/2020_02_20_10_13_22_forGodSake_Attn_sharedv2_2020_02_20_10_19_19_test_area_14'),\n",
       " PosixPath('/home/sedghi/projects/teus_em/predict/2020_02_21_00_14_24_IloveResearch_attn_integ_shared_2020_02_21_09_51_39_test_area_14_NN_71_83_91'),\n",
       " PosixPath('/home/sedghi/projects/teus_em/predict/2020_02_21_00_46_02_ILoveResearch_attn_shared_2020_02_21_10_11_58_test_area_13_NNN_72_81_80'),\n",
       " PosixPath('/home/sedghi/projects/teus_em/predict/2020_02_04_15_02_02_integration2d_shared_2020_02_04_15_10_03_test_area_14_bad'),\n",
       " PosixPath('/home/sedghi/projects/teus_em/predict/2020_02_19_21_28_25_fun_x_unet_shared_big_batch_2020_02_19_21_33_33_test_area_14'),\n",
       " PosixPath('/home/sedghi/projects/teus_em/predict/2020_02_04_17_29_26_integration_shared_2020_02_05_10_10_56_test_area_14_maybe'),\n",
       " PosixPath('/home/sedghi/projects/teus_em/predict/2020_02_20_06_53_08_forGodSake_Attn_shared_2020_02_20_09_07_34_test_area_14'),\n",
       " PosixPath('/home/sedghi/projects/teus_em/predict/2020_02_21_09_47_37_ILoveResearch_attn_shared_2020_02_21_10_10_19_test_area_13_NNN'),\n",
       " PosixPath('/home/sedghi/projects/teus_em/predict/2019_11_14_23_58_11_integration_unet_2019_11_15_11_26_09_test_area_14_good_0p79AUCCOMBO'),\n",
       " PosixPath('/home/sedghi/projects/teus_em/predict/2020_02_21_02_05_51_IloveResearch_attn_integ_shared_2020_02_21_10_03_11_test_area_14_NN_79_86_93'),\n",
       " PosixPath('/home/sedghi/projects/teus_em/predict/2020_02_18_23_41_00_attn_shared_2020_02_19_13_35_39_test_area_14'),\n",
       " PosixPath('/home/sedghi/projects/teus_em/predict/2019_11_15_02_10_41_integration_unet_2019_11_15_11_14_36_test_area_13_GOOD_COLORMAP'),\n",
       " PosixPath('/home/sedghi/projects/teus_em/predict/2020_02_21_04_11_02_IloveResearch_attn_integ_shared_2020_02_21_09_57_19_test_area_13_NN_70_81_93'),\n",
       " PosixPath('/home/sedghi/projects/teus_em/predict/2020_02_05_12_47_43_attn_integration_2020_02_05_16_31_10_test_area_14_good'),\n",
       " PosixPath('/home/sedghi/projects/teus_em/predict/2020_02_19_23_37_43_forGodSake_Attn_shared_2020_02_20_09_08_19_test_area_14'),\n",
       " PosixPath('/home/sedghi/projects/teus_em/predict/2019_11_15_02_39_15_integration_unet_2019_11_15_10_36_27_test_area_14_GOOOD'),\n",
       " PosixPath('/home/sedghi/projects/teus_em/predict/2020_02_20_04_25_48_forGodSake_Attn_shared_2020_02_20_09_08_39_test_area_14'),\n",
       " PosixPath('/home/sedghi/projects/teus_em/predict/2020_02_20_08_05_58_GodSake_attn_integration_shared_2020_02_20_13_25_38_test_area_14_NotBad'),\n",
       " PosixPath('/home/sedghi/projects/teus_em/predict/2020_02_05_07_31_55_integration_shared_2020_02_05_10_11_33_test_area_13_meh'),\n",
       " PosixPath('/home/sedghi/projects/teus_em/predict/2020_02_21_06_25_03_IloveResearch_attn_integ_shared_2020_02_21_09_05_17_test_area_13'),\n",
       " PosixPath('/home/sedghi/projects/teus_em/predict/2020_02_05_03_06_27_attn_integration_2020_02_10_09_26_09_test_area_14')]"
      ]
     },
     "execution_count": 9,
     "metadata": {},
     "output_type": "execute_result"
    }
   ],
   "source": [
    "[p for p in list(pred_dir.glob(\"*\")) if '_area_' in p.stem]"
   ]
  }
 ],
 "metadata": {
  "kernelspec": {
   "display_name": "tf_2_gpu",
   "language": "python",
   "name": "tf_2_gpu"
  },
  "language_info": {
   "codemirror_mode": {
    "name": "ipython",
    "version": 3
   },
   "file_extension": ".py",
   "mimetype": "text/x-python",
   "name": "python",
   "nbconvert_exporter": "python",
   "pygments_lexer": "ipython3",
   "version": "3.7.3"
  },
  "toc": {
   "base_numbering": 1,
   "nav_menu": {},
   "number_sections": true,
   "sideBar": true,
   "skip_h1_title": false,
   "title_cell": "Table of Contents",
   "title_sidebar": "Contents",
   "toc_cell": false,
   "toc_position": {},
   "toc_section_display": true,
   "toc_window_display": false
  }
 },
 "nbformat": 4,
 "nbformat_minor": 2
}
