{
 "cells": [
  {
   "cell_type": "code",
   "execution_count": 1,
   "metadata": {},
   "outputs": [
    {
     "data": {
      "text/html": [
       "<style>.container { width:95% !important; }</style>"
      ],
      "text/plain": [
       "<IPython.core.display.HTML object>"
      ]
     },
     "metadata": {},
     "output_type": "display_data"
    }
   ],
   "source": [
    "from IPython.core.display import display, HTML\n",
    "display(HTML(\"<style>.container { width:95% !important; }</style>\"))\n",
    "# %pprint"
   ]
  },
  {
   "cell_type": "code",
   "execution_count": 2,
   "metadata": {},
   "outputs": [],
   "source": [
    "import glob\n",
    "import sys,os\n",
    "import pandas as pd\n",
    "import os\n",
    "# import dicom\n",
    "import SimpleITK as sitk\n",
    "import ipywidgets as widgets\n",
    "import matplotlib.mlab as mlab\n",
    "import matplotlib.patches as patches\n",
    "import numpy as np\n",
    "import pandas as pd\n",
    "from mpl_toolkits.axes_grid1 import make_axes_locatable\n",
    "from scipy.stats import norm\n",
    "from tqdm import tqdm\n",
    "pd.set_option('display.max_colwidth', 500)\n",
    "import seaborn as sns\n",
    "import matplotlib.pyplot as plt\n",
    "from matplotlib.lines import Line2D\n",
    "from ipywidgets import interactive, widgets, Layout, Box\n",
    "from IPython.display import display\n",
    "from IPython.display import clear_output\n",
    "from scipy.signal import savgol_filter\n",
    "import shutil\n",
    "import ast\n",
    "import matplotlib\n",
    "matplotlib.style.use('ggplot')\n",
    "plt.style.use('seaborn-poster')\n",
    "import re\n",
    "for path in ['..','../..']:\n",
    "    sys.path.append(path)\n",
    "import settings as S"
   ]
  },
  {
   "cell_type": "code",
   "execution_count": 3,
   "metadata": {
    "collapsed": true
   },
   "outputs": [],
   "source": [
    "info_csv= pd.read_csv(os.path.join(S.root,\"sheets\",\"info.csv\"))\n",
    "patients=info_csv['patient id'].unique()"
   ]
  },
  {
   "cell_type": "code",
   "execution_count": 4,
   "metadata": {
    "collapsed": true
   },
   "outputs": [],
   "source": [
    "excluded_patients=[]"
   ]
  },
  {
   "cell_type": "code",
   "execution_count": 5,
   "metadata": {},
   "outputs": [],
   "source": [
    "patients=[patient for patient in patients if patient not in excluded_patients]"
   ]
  },
  {
   "cell_type": "code",
   "execution_count": 6,
   "metadata": {
    "collapsed": true
   },
   "outputs": [],
   "source": [
    "T2_not_desired=['map','opt','RSSFSE','sub','calibration','body','Opt','fov','reformated','3pl','loc','pjn','screen','Cube','trace','WATER','phase','ideal','trufi','S6_ND']"
   ]
  },
  {
   "cell_type": "markdown",
   "metadata": {},
   "source": [
    "# T2"
   ]
  },
  {
   "cell_type": "code",
   "execution_count": 7,
   "metadata": {},
   "outputs": [
    {
     "name": "stdout",
     "output_type": "stream",
     "text": [
      "8708521\n",
      "['COR FRFSE-XL T2', 'COR FRFSE-XL T2']\n",
      "23602410\n",
      "['COR FRFSE-XL T2', 'COR FRFSE-XL T2']\n",
      "23742679\n",
      "['COR FRFSE-XL T2', 'COR FRFSE-XL T2']\n",
      "26330787\n",
      "['COR FRFSE-XL T2', 'COR FRFSE-XL T2']\n",
      "27862614\n",
      "['COR FRFSE-XL T2', 'COR FRFSE-XL T2']\n"
     ]
    }
   ],
   "source": [
    "ax_list=[]\n",
    "sag_list=[]\n",
    "cor_list=[]\n",
    "\n",
    "for patient in patients:\n",
    "# patient=patients[0]\n",
    "    \n",
    "    series=info_csv.loc[info_csv['patient id']==patient,'series description'].values\n",
    "#     patient_folder=os.path.join(os.path.dirname(S.raw_folder),'raw_sorted',str(patient).zfill(8))\n",
    "#     study=os.listdir(patient_folder)\n",
    "#     series=os.listdir(os.path.join(patient_folder,study[0]))\n",
    "    T2s=[serie for serie in series if 'T2' in serie and not any(key.upper() in serie.upper() for key in T2_not_desired)]\n",
    "    \n",
    "#     if len(T2s)!=3:\n",
    "#         print(patient)\n",
    "#         print(T2s)\n",
    "    AX=[serie for serie in T2s if 'AX' in serie.upper()] \n",
    "    SAG=[serie for serie in T2s if 'SAG' in serie.upper()]\n",
    "    COR=[serie for serie in T2s if 'COR' in serie.upper()]\n",
    "    \n",
    "    if len(COR)>1:\n",
    "        print(patient)\n",
    "        print(COR)\n",
    "        \n",
    "#         print(T2s)\n",
    "#     if len(AX)>1:\n",
    "#         AX=[serie for serie in T2s if 'REPEAT' in serie.upper()][0]\n",
    "#     else:\n",
    "#         AX=AX[0]\n",
    "#     ax_list.append(AX)\n",
    "    \n",
    "#     if len(SAG)>1:\n",
    "#         SAG=[serie for serie in T2s if 'REPEAT' in serie.upper()][0]\n",
    "#     else:\n",
    "#         SAG=SAG[0]\n",
    "#     sag_list.append(SAG)\n",
    "    \n",
    "#     if len(COR)>1:\n",
    "#         COR=[serie for serie in T2s if 'REPEAT' in serie.upper()][0]\n",
    "#     else:\n",
    "#         COR=COR[0]\n",
    "#     cor_list.append(COR)"
   ]
  },
  {
   "cell_type": "markdown",
   "metadata": {},
   "source": [
    "# DWI"
   ]
  },
  {
   "cell_type": "code",
   "execution_count": 8,
   "metadata": {
    "collapsed": true
   },
   "outputs": [],
   "source": [
    "dwi_info_df= pd.read_csv(os.path.join(S.root,\"sheets\",\"dwi_stats.csv\"))\n",
    "dwi_only_info_df=dwi_info_df.loc[~dwi_info_df['series description'].str.contains('ADC|Apparent',case=False)]"
   ]
  },
  {
   "cell_type": "code",
   "execution_count": 9,
   "metadata": {},
   "outputs": [
    {
     "name": "stderr",
     "output_type": "stream",
     "text": [
      "/home/mehrtash/anaconda3/lib/python3.6/site-packages/ipykernel_launcher.py:1: SettingWithCopyWarning: \n",
      "A value is trying to be set on a copy of a slice from a DataFrame.\n",
      "Try using .loc[row_indexer,col_indexer] = value instead\n",
      "\n",
      "See the caveats in the documentation: http://pandas.pydata.org/pandas-docs/stable/indexing.html#indexing-view-versus-copy\n",
      "  \"\"\"Entry point for launching an IPython kernel.\n"
     ]
    }
   ],
   "source": [
    "dwi_only_info_df['b values']=dwi_only_info_df['b values'].apply(lambda x: ast.literal_eval(x))"
   ]
  },
  {
   "cell_type": "code",
   "execution_count": null,
   "metadata": {
    "collapsed": true
   },
   "outputs": [],
   "source": [
    "DWI_not_desired=T2_not_desired+['b3500','DWI 12 B','COR','PU','Focus']"
   ]
  },
  {
   "cell_type": "code",
   "execution_count": null,
   "metadata": {
    "collapsed": true
   },
   "outputs": [],
   "source": [
    "info_csv.loc[((info_csv['series description'].str.contains('1000')))&(info_csv['series description'].str.contains('DWI'))&(~info_csv['series description'].str.contains('ADC'))&(~info_csv['series description'].str.contains('|'.join(DWI_not_desired),case=False))].groupby('series description')['patient id'].nunique()"
   ]
  },
  {
   "cell_type": "code",
   "execution_count": null,
   "metadata": {
    "collapsed": true
   },
   "outputs": [],
   "source": [
    "DWIs=set([serie for serie in info_csv[\"series description\"].values if 'DWI' in serie and not 'ADC' in serie and not any(key.upper() in serie.upper() for key in DWI_not_desired)])\n",
    "DWIs"
   ]
  },
  {
   "cell_type": "code",
   "execution_count": null,
   "metadata": {
    "collapsed": true
   },
   "outputs": [],
   "source": [
    "print(list(map(int, re.findall(r'\\d+', list(DWIs)[6]))))\n",
    "print(list(DWIs)[6])"
   ]
  },
  {
   "cell_type": "code",
   "execution_count": null,
   "metadata": {
    "collapsed": true
   },
   "outputs": [],
   "source": [
    "dwi_only_info_df.loc[dwi_only_info_df['b values'].map(len)!=2]"
   ]
  },
  {
   "cell_type": "code",
   "execution_count": null,
   "metadata": {
    "collapsed": true
   },
   "outputs": [],
   "source": [
    "dwi_only_info_df['b values str']=dwi_only_info_df['b values'].apply(lambda x: str(x))\n",
    "dwi_only_info_df.groupby('b values str')['patient id'].count()"
   ]
  },
  {
   "cell_type": "code",
   "execution_count": null,
   "metadata": {
    "collapsed": true
   },
   "outputs": [],
   "source": [
    "dwi_only_info_df.loc[dwi_only_info_df['b values str'].str.contains('1000')]"
   ]
  },
  {
   "cell_type": "code",
   "execution_count": null,
   "metadata": {
    "collapsed": true
   },
   "outputs": [],
   "source": [
    "dwi_only_info_df.loc[dwi_only_info_df['patient id']==20826814]"
   ]
  },
  {
   "cell_type": "markdown",
   "metadata": {},
   "source": [
    "# ADC"
   ]
  },
  {
   "cell_type": "code",
   "execution_count": null,
   "metadata": {
    "collapsed": true
   },
   "outputs": [],
   "source": [
    "dwi_info_all=pd.read_csv(os.path.join(S.root,\"sheets\",\"dwi_stats_all.csv\"))"
   ]
  },
  {
   "cell_type": "code",
   "execution_count": null,
   "metadata": {
    "collapsed": true
   },
   "outputs": [],
   "source": [
    "dwi_info_all.loc[dwi_info_all['series description'].str.contains('pu|opt',case=False),'patient id'].unique()"
   ]
  },
  {
   "cell_type": "code",
   "execution_count": null,
   "metadata": {
    "collapsed": true,
    "scrolled": false
   },
   "outputs": [],
   "source": [
    "dwi_info_all.loc[dwi_info_all['actual time stamp'].isnull()]"
   ]
  },
  {
   "cell_type": "code",
   "execution_count": null,
   "metadata": {
    "collapsed": true
   },
   "outputs": [],
   "source": [
    "adc_info_df=dwi_info_df.loc[(dwi_info_df['series description'].str.contains('ADC|Apparent',case=False))]"
   ]
  },
  {
   "cell_type": "code",
   "execution_count": null,
   "metadata": {
    "collapsed": true,
    "scrolled": false
   },
   "outputs": [],
   "source": [
    "adc_info_df.loc[adc_info_df['b values'].isnull()].groupby('series description')['patient id'].count()"
   ]
  },
  {
   "cell_type": "code",
   "execution_count": null,
   "metadata": {
    "collapsed": true
   },
   "outputs": [],
   "source": [
    "adc_not_null_df=adc_info_df.loc[(~adc_info_df['b values'].isnull())]\n",
    "adc_null_df=adc_info_df.loc[adc_info_df['b values'].isnull()]"
   ]
  },
  {
   "cell_type": "code",
   "execution_count": null,
   "metadata": {
    "collapsed": true
   },
   "outputs": [],
   "source": [
    "adc_not_null_df['b values str']=adc_not_null_df['b values'].apply(lambda x: str(x))\n",
    "adc_not_null_df.groupby('b values str')['patient id'].count()"
   ]
  },
  {
   "cell_type": "code",
   "execution_count": null,
   "metadata": {
    "collapsed": true
   },
   "outputs": [],
   "source": [
    "adc_null_patients = adc_null_df['patient id'].unique()"
   ]
  },
  {
   "cell_type": "code",
   "execution_count": null,
   "metadata": {
    "collapsed": true
   },
   "outputs": [],
   "source": [
    "adc_not_null_df.loc[(~adc_not_null_df['b values'].str.contains('500|1400'))]"
   ]
  },
  {
   "cell_type": "code",
   "execution_count": null,
   "metadata": {
    "collapsed": true,
    "scrolled": false
   },
   "outputs": [],
   "source": [
    "dwi_info_df.loc[dwi_info_df['patient id']==23602410]"
   ]
  },
  {
   "cell_type": "markdown",
   "metadata": {},
   "source": [
    "# big dic"
   ]
  },
  {
   "cell_type": "code",
   "execution_count": null,
   "metadata": {
    "collapsed": true
   },
   "outputs": [],
   "source": [
    "big_dic_df= pd.read_csv(os.path.join(S.root,\"sheets\",\"dwi_stats_big_dic.csv\"))"
   ]
  },
  {
   "cell_type": "code",
   "execution_count": null,
   "metadata": {
    "collapsed": true
   },
   "outputs": [],
   "source": [
    "str('123').startswith('1')"
   ]
  },
  {
   "cell_type": "code",
   "execution_count": null,
   "metadata": {
    "collapsed": true
   },
   "outputs": [],
   "source": [
    "dic=big_dic_df['bval_big_dic'][0]"
   ]
  },
  {
   "cell_type": "code",
   "execution_count": null,
   "metadata": {
    "collapsed": true
   },
   "outputs": [],
   "source": [
    "dic"
   ]
  },
  {
   "cell_type": "code",
   "execution_count": null,
   "metadata": {
    "collapsed": true
   },
   "outputs": [],
   "source": [
    "[key1 for key1 in dic.keys() if (dic[key1]['acque_time']==154837 or dic[key1]['actual_time_stamp']==actual_time_stamp) and ('800').startswith(dic[key1]['series_number'])]"
   ]
  },
  {
   "cell_type": "code",
   "execution_count": null,
   "metadata": {
    "collapsed": true
   },
   "outputs": [],
   "source": [
    "b_vals=[]\n",
    "for i in range(len(big_dic_df)):\n",
    "    dic=ast.literal_eval(big_dic_df['bval_big_dic'][i])\n",
    "    b_vals.extend(list(dic.keys()))\n",
    "    if('1000' in list(dic.keys())):\n",
    "        print('bval 1000 for patient:{}'.format(big_dic_df['patient id'][i]))\n",
    "    if('800' in list(dic.keys())):\n",
    "        print('bval 800 for patient:{}'.format(big_dic_df['patient id'][i]))"
   ]
  },
  {
   "cell_type": "code",
   "execution_count": null,
   "metadata": {
    "collapsed": true,
    "scrolled": false
   },
   "outputs": [],
   "source": [
    "set(dwi_info_all.loc[dwi_info_all['manufacturer'].str.contains('SIEMENS',case=False),'patient id'].unique())-set(dwi_info_all.loc[dwi_info_all['series description'].str.contains('WIP',case=False),'patient id'].unique())"
   ]
  },
  {
   "cell_type": "code",
   "execution_count": null,
   "metadata": {
    "collapsed": true
   },
   "outputs": [],
   "source": [
    "set(dwi_info_all.loc[dwi_info_all['manufacturer'].str.contains('SIEMENS',case=False),'patient id'].unique())"
   ]
  },
  {
   "cell_type": "code",
   "execution_count": null,
   "metadata": {
    "collapsed": true
   },
   "outputs": [],
   "source": [
    "set(dwi_info_all.loc[dwi_info_all['series description'].str.contains('opt',case=False),'patient id'].unique())"
   ]
  },
  {
   "cell_type": "code",
   "execution_count": null,
   "metadata": {
    "collapsed": true,
    "scrolled": false
   },
   "outputs": [],
   "source": [
    "dwi_info_all.loc[dwi_info_all['patient id']==23742679]"
   ]
  },
  {
   "cell_type": "markdown",
   "metadata": {},
   "source": [
    "# DCE"
   ]
  },
  {
   "cell_type": "code",
   "execution_count": null,
   "metadata": {
    "collapsed": true
   },
   "outputs": [],
   "source": [
    "DCE_not_desired=DWI_not_desired+['nw_sf8']"
   ]
  },
  {
   "cell_type": "code",
   "execution_count": null,
   "metadata": {
    "collapsed": true
   },
   "outputs": [],
   "source": [
    "info_csv.loc[(info_csv['n_files']>200)&(~info_csv['series description'].str.contains('|'.join(DCE_not_desired),case=False)),'series description'].unique()"
   ]
  },
  {
   "cell_type": "code",
   "execution_count": null,
   "metadata": {
    "collapsed": true
   },
   "outputs": [],
   "source": [
    "len(info_csv.loc[(info_csv['n_files']>200)&(~info_csv['series description'].str.contains('|'.join(DWI_not_desired),case=False))])"
   ]
  },
  {
   "cell_type": "code",
   "execution_count": null,
   "metadata": {
    "collapsed": true
   },
   "outputs": [],
   "source": [
    "patientw_w_DCE = set(info_csv.loc[(info_csv['n_files']>300),'patient id'])"
   ]
  },
  {
   "cell_type": "code",
   "execution_count": null,
   "metadata": {
    "collapsed": true
   },
   "outputs": [],
   "source": [
    "set(patients)-set(patientw_w_DCE)"
   ]
  },
  {
   "cell_type": "markdown",
   "metadata": {},
   "source": [
    "# temp"
   ]
  },
  {
   "cell_type": "code",
   "execution_count": null,
   "metadata": {
    "collapsed": true
   },
   "outputs": [],
   "source": [
    "temp_df= pd.read_csv(os.path.join(S.root,\"sheets\",\"temp_stats.csv\"))"
   ]
  },
  {
   "cell_type": "code",
   "execution_count": null,
   "metadata": {
    "collapsed": true
   },
   "outputs": [],
   "source": [
    "temp_df['types str']=temp_df['types'].apply(lambda x: str(x))\n",
    "temp_df.groupby('types str')['patient id'].count()\n"
   ]
  },
  {
   "cell_type": "markdown",
   "metadata": {},
   "source": [
    "# warning patients"
   ]
  },
  {
   "cell_type": "code",
   "execution_count": null,
   "metadata": {
    "collapsed": true
   },
   "outputs": [],
   "source": [
    "'23703200',\n",
    "'23678469',\n",
    "'23636822',\n",
    "'23133176',\n",
    "'23602410',\n",
    "'23344041',\n",
    "'23303423',\n",
    "'18873901',\n",
    "'14429740',\n",
    "'12189049',\n",
    "'08029696',\n",
    "'28163350',\n",
    "'28666188'"
   ]
  },
  {
   "cell_type": "code",
   "execution_count": 10,
   "metadata": {
    "collapsed": true
   },
   "outputs": [],
   "source": [
    "warning_patients_dwi=['23703200','23303423','23678469','18873901','23636822','23602410','08029696','23344047','23133176','14429740','12189049']"
   ]
  },
  {
   "cell_type": "code",
   "execution_count": 11,
   "metadata": {},
   "outputs": [
    {
     "data": {
      "text/plain": [
       "Index(['acqu time', 'actual time stamp', 'b values', 'coil name',\n",
       "       'manufacturer', 'modality', 'model name', 'n_files', 'patient id',\n",
       "       'pixel spacing', 'protocol', 'series description', 'series number',\n",
       "       'series uid', 'slice tickness', 'station', 'study description',\n",
       "       'study uid'],\n",
       "      dtype='object')"
      ]
     },
     "execution_count": 11,
     "metadata": {},
     "output_type": "execute_result"
    }
   ],
   "source": [
    "dwi_info_df.columns"
   ]
  },
  {
   "cell_type": "code",
   "execution_count": 12,
   "metadata": {
    "scrolled": false
   },
   "outputs": [
    {
     "data": {
      "text/plain": [
       "manufacturer\n",
       "GE MEDICAL SYSTEMS    11\n",
       "Name: patient id, dtype: int64"
      ]
     },
     "execution_count": 12,
     "metadata": {},
     "output_type": "execute_result"
    }
   ],
   "source": [
    "dwi_info_df.loc[dwi_info_df['patient id'].isin(warning_patients_dwi)].groupby('manufacturer')['patient id'].nunique()"
   ]
  },
  {
   "cell_type": "code",
   "execution_count": 13,
   "metadata": {},
   "outputs": [
    {
     "data": {
      "text/plain": [
       "model name\n",
       "SIGNA HDx    11\n",
       "Name: patient id, dtype: int64"
      ]
     },
     "execution_count": 13,
     "metadata": {},
     "output_type": "execute_result"
    }
   ],
   "source": [
    "dwi_info_df.loc[dwi_info_df['patient id'].isin(warning_patients_dwi)].groupby('model name')['patient id'].nunique()"
   ]
  },
  {
   "cell_type": "code",
   "execution_count": 14,
   "metadata": {},
   "outputs": [
    {
     "data": {
      "text/plain": [
       "station\n",
       "B221GE30    7\n",
       "MR23T       4\n",
       "Name: patient id, dtype: int64"
      ]
     },
     "execution_count": 14,
     "metadata": {},
     "output_type": "execute_result"
    }
   ],
   "source": [
    "dwi_info_df.loc[dwi_info_df['patient id'].isin(warning_patients_dwi)].groupby('station')['patient id'].nunique()"
   ]
  },
  {
   "cell_type": "code",
   "execution_count": 17,
   "metadata": {},
   "outputs": [
    {
     "data": {
      "text/plain": [
       "protocol\n",
       "DCE_DWI T1 MAP MULTI FL/    2\n",
       "PRO DCE DWI 08-21-08/7      1\n",
       "PRO DCE DWI/7               8\n",
       "Name: patient id, dtype: int64"
      ]
     },
     "execution_count": 17,
     "metadata": {},
     "output_type": "execute_result"
    }
   ],
   "source": [
    "dwi_info_df.loc[dwi_info_df['patient id'].isin(warning_patients_dwi)].groupby('protocol')['patient id'].nunique()"
   ]
  },
  {
   "cell_type": "code",
   "execution_count": 20,
   "metadata": {},
   "outputs": [
    {
     "data": {
      "text/html": [
       "<div>\n",
       "<style>\n",
       "    .dataframe thead tr:only-child th {\n",
       "        text-align: right;\n",
       "    }\n",
       "\n",
       "    .dataframe thead th {\n",
       "        text-align: left;\n",
       "    }\n",
       "\n",
       "    .dataframe tbody tr th {\n",
       "        vertical-align: top;\n",
       "    }\n",
       "</style>\n",
       "<table border=\"1\" class=\"dataframe\">\n",
       "  <thead>\n",
       "    <tr style=\"text-align: right;\">\n",
       "      <th></th>\n",
       "      <th>acqu time</th>\n",
       "      <th>actual time stamp</th>\n",
       "      <th>b values</th>\n",
       "      <th>coil name</th>\n",
       "      <th>manufacturer</th>\n",
       "      <th>modality</th>\n",
       "      <th>model name</th>\n",
       "      <th>n_files</th>\n",
       "      <th>patient id</th>\n",
       "      <th>pixel spacing</th>\n",
       "      <th>protocol</th>\n",
       "      <th>series description</th>\n",
       "      <th>series number</th>\n",
       "      <th>series uid</th>\n",
       "      <th>slice tickness</th>\n",
       "      <th>station</th>\n",
       "      <th>study description</th>\n",
       "      <th>study uid</th>\n",
       "    </tr>\n",
       "  </thead>\n",
       "  <tbody>\n",
       "    <tr>\n",
       "      <th>255</th>\n",
       "      <td>90704.0</td>\n",
       "      <td>[184, 129, 174, 72]</td>\n",
       "      <td>[b'500\\\\8\\\\0\\\\0 ', b'0\\\\8\\\\0\\\\0 ']</td>\n",
       "      <td>EIS_eCoil Torso</td>\n",
       "      <td>GE MEDICAL SYSTEMS</td>\n",
       "      <td>MR</td>\n",
       "      <td>SIGNA HDx</td>\n",
       "      <td>24</td>\n",
       "      <td>20811956</td>\n",
       "      <td>[1.0938, 1.0938]</td>\n",
       "      <td>PRO DCE DWI 08-21-08/7</td>\n",
       "      <td>Ax DWI b500 5mm 28cm no assett#2</td>\n",
       "      <td>7</td>\n",
       "      <td>1.2.840.113619.2.207.3596.11861984.25740.1219404288.433</td>\n",
       "      <td>5.0</td>\n",
       "      <td>MR23T</td>\n",
       "      <td>PELVIS W&amp;W/O</td>\n",
       "      <td>1.2.124.113532.170.223.162.178.20080819.65852.4482573</td>\n",
       "    </tr>\n",
       "    <tr>\n",
       "      <th>256</th>\n",
       "      <td>90704.0</td>\n",
       "      <td>[184, 129, 174, 72]</td>\n",
       "      <td>[b'500\\\\8\\\\0\\\\0 ']</td>\n",
       "      <td>EIS_eCoil Torso</td>\n",
       "      <td>GE MEDICAL SYSTEMS</td>\n",
       "      <td>MR</td>\n",
       "      <td>SIGNA HDx</td>\n",
       "      <td>12</td>\n",
       "      <td>20811956</td>\n",
       "      <td>[1.0938, 1.0938]</td>\n",
       "      <td>PRO DCE DWI 08-21-08/7</td>\n",
       "      <td>Exponential Apparent Diffusion Coefficient</td>\n",
       "      <td>700</td>\n",
       "      <td>1.2.840.113619.2.5.20201724.700.1219413018.36</td>\n",
       "      <td>5.0</td>\n",
       "      <td>MR23T</td>\n",
       "      <td>PELVIS W&amp;W/O</td>\n",
       "      <td>1.2.124.113532.170.223.162.178.20080819.65852.4482573</td>\n",
       "    </tr>\n",
       "    <tr>\n",
       "      <th>257</th>\n",
       "      <td>90704.0</td>\n",
       "      <td>[184, 129, 174, 72]</td>\n",
       "      <td>[b'500\\\\8\\\\0\\\\0 ']</td>\n",
       "      <td>EIS_eCoil Torso</td>\n",
       "      <td>GE MEDICAL SYSTEMS</td>\n",
       "      <td>MR</td>\n",
       "      <td>SIGNA HDx</td>\n",
       "      <td>12</td>\n",
       "      <td>20811956</td>\n",
       "      <td>[1.0938, 1.0938]</td>\n",
       "      <td>PRO DCE DWI 08-21-08/7</td>\n",
       "      <td>Apparent Diffusion Coefficient (mm?/s)</td>\n",
       "      <td>701</td>\n",
       "      <td>1.2.840.113619.2.5.20201724.701.1219413018.36</td>\n",
       "      <td>5.0</td>\n",
       "      <td>MR23T</td>\n",
       "      <td>PELVIS W&amp;W/O</td>\n",
       "      <td>1.2.124.113532.170.223.162.178.20080819.65852.4482573</td>\n",
       "    </tr>\n",
       "    <tr>\n",
       "      <th>325</th>\n",
       "      <td>110214.0</td>\n",
       "      <td>[54, 76, 202, 72]</td>\n",
       "      <td>[b'500\\\\8\\\\0\\\\0 ', b'0\\\\8\\\\0\\\\0 ']</td>\n",
       "      <td>EIS_eCoil Torso</td>\n",
       "      <td>GE MEDICAL SYSTEMS</td>\n",
       "      <td>MR</td>\n",
       "      <td>SIGNA HDx</td>\n",
       "      <td>24</td>\n",
       "      <td>22936470</td>\n",
       "      <td>[0.7031, 0.7031]</td>\n",
       "      <td>PRO DCE DWI 08-21-08/7</td>\n",
       "      <td>Ax DWI b500 5mm 28cm no assett#2</td>\n",
       "      <td>7</td>\n",
       "      <td>1.2.840.113619.2.207.3596.11861984.28291.1221219271.120</td>\n",
       "      <td>5.0</td>\n",
       "      <td>MR23T</td>\n",
       "      <td>PELVIS W&amp;W/O</td>\n",
       "      <td>1.2.124.113532.170.223.162.178.20080908.163740.4606264</td>\n",
       "    </tr>\n",
       "    <tr>\n",
       "      <th>326</th>\n",
       "      <td>110214.0</td>\n",
       "      <td>[54, 76, 202, 72]</td>\n",
       "      <td>[b'500\\\\8\\\\0\\\\0 ']</td>\n",
       "      <td>EIS_eCoil Torso</td>\n",
       "      <td>GE MEDICAL SYSTEMS</td>\n",
       "      <td>MR</td>\n",
       "      <td>SIGNA HDx</td>\n",
       "      <td>12</td>\n",
       "      <td>22936470</td>\n",
       "      <td>[0.7031, 0.7031]</td>\n",
       "      <td>PRO DCE DWI 08-21-08/7</td>\n",
       "      <td>Exponential Apparent Diffusion Coefficient</td>\n",
       "      <td>700</td>\n",
       "      <td>1.2.840.113619.2.5.20212322.700.1221232953.184</td>\n",
       "      <td>5.0</td>\n",
       "      <td>MR23T</td>\n",
       "      <td>PELVIS W&amp;W/O</td>\n",
       "      <td>1.2.124.113532.170.223.162.178.20080908.163740.4606264</td>\n",
       "    </tr>\n",
       "    <tr>\n",
       "      <th>327</th>\n",
       "      <td>110214.0</td>\n",
       "      <td>[54, 76, 202, 72]</td>\n",
       "      <td>[b'500\\\\8\\\\0\\\\0 ']</td>\n",
       "      <td>EIS_eCoil Torso</td>\n",
       "      <td>GE MEDICAL SYSTEMS</td>\n",
       "      <td>MR</td>\n",
       "      <td>SIGNA HDx</td>\n",
       "      <td>12</td>\n",
       "      <td>22936470</td>\n",
       "      <td>[0.7031, 0.7031]</td>\n",
       "      <td>PRO DCE DWI 08-21-08/7</td>\n",
       "      <td>Apparent Diffusion Coefficient (mm?/s)</td>\n",
       "      <td>701</td>\n",
       "      <td>1.2.840.113619.2.5.20212322.701.1221232953.184</td>\n",
       "      <td>5.0</td>\n",
       "      <td>MR23T</td>\n",
       "      <td>PELVIS W&amp;W/O</td>\n",
       "      <td>1.2.124.113532.170.223.162.178.20080908.163740.4606264</td>\n",
       "    </tr>\n",
       "    <tr>\n",
       "      <th>343</th>\n",
       "      <td>145538.0</td>\n",
       "      <td>[106, 143, 227, 72]</td>\n",
       "      <td>[b'0\\\\8\\\\0\\\\0 ', b'500\\\\8\\\\0\\\\0 ']</td>\n",
       "      <td>EIS_eCoil Torso</td>\n",
       "      <td>GE MEDICAL SYSTEMS</td>\n",
       "      <td>MR</td>\n",
       "      <td>SIGNA HDx</td>\n",
       "      <td>40</td>\n",
       "      <td>23263130</td>\n",
       "      <td>[0.5469, 0.5469]</td>\n",
       "      <td>PRO DCE DWI 08-21-08/7</td>\n",
       "      <td>Ax DWI b500 5mm 28cm no assett#2</td>\n",
       "      <td>7</td>\n",
       "      <td>1.2.840.113619.2.207.3596.11861984.26783.1222857779.633</td>\n",
       "      <td>3.0</td>\n",
       "      <td>MR23T</td>\n",
       "      <td>PELVIS W&amp;W/O</td>\n",
       "      <td>1.2.124.113532.170.223.162.178.20080926.92304.4731665</td>\n",
       "    </tr>\n",
       "    <tr>\n",
       "      <th>344</th>\n",
       "      <td>145538.0</td>\n",
       "      <td>[106, 143, 227, 72]</td>\n",
       "      <td>[b'500\\\\8\\\\0\\\\0 ']</td>\n",
       "      <td>EIS_eCoil Torso</td>\n",
       "      <td>GE MEDICAL SYSTEMS</td>\n",
       "      <td>MR</td>\n",
       "      <td>SIGNA HDx</td>\n",
       "      <td>20</td>\n",
       "      <td>23263130</td>\n",
       "      <td>[0.5469, 0.5469]</td>\n",
       "      <td>PRO DCE DWI 08-21-08/7</td>\n",
       "      <td>Exponential Apparent Diffusion Coefficient</td>\n",
       "      <td>700</td>\n",
       "      <td>1.2.840.113619.2.5.20231616.700.1222889304.615</td>\n",
       "      <td>3.0</td>\n",
       "      <td>MR23T</td>\n",
       "      <td>PELVIS W&amp;W/O</td>\n",
       "      <td>1.2.124.113532.170.223.162.178.20080926.92304.4731665</td>\n",
       "    </tr>\n",
       "    <tr>\n",
       "      <th>345</th>\n",
       "      <td>145538.0</td>\n",
       "      <td>[106, 143, 227, 72]</td>\n",
       "      <td>[b'500\\\\8\\\\0\\\\0 ']</td>\n",
       "      <td>EIS_eCoil Torso</td>\n",
       "      <td>GE MEDICAL SYSTEMS</td>\n",
       "      <td>MR</td>\n",
       "      <td>SIGNA HDx</td>\n",
       "      <td>20</td>\n",
       "      <td>23263130</td>\n",
       "      <td>[0.5469, 0.5469]</td>\n",
       "      <td>PRO DCE DWI 08-21-08/7</td>\n",
       "      <td>Apparent Diffusion Coefficient (mm?/s)</td>\n",
       "      <td>701</td>\n",
       "      <td>1.2.840.113619.2.5.20231616.701.1222889304.615</td>\n",
       "      <td>3.0</td>\n",
       "      <td>MR23T</td>\n",
       "      <td>PELVIS W&amp;W/O</td>\n",
       "      <td>1.2.124.113532.170.223.162.178.20080926.92304.4731665</td>\n",
       "    </tr>\n",
       "  </tbody>\n",
       "</table>\n",
       "</div>"
      ],
      "text/plain": [
       "     acqu time    actual time stamp                            b values  \\\n",
       "255    90704.0  [184, 129, 174, 72]  [b'500\\\\8\\\\0\\\\0 ', b'0\\\\8\\\\0\\\\0 ']   \n",
       "256    90704.0  [184, 129, 174, 72]                  [b'500\\\\8\\\\0\\\\0 ']   \n",
       "257    90704.0  [184, 129, 174, 72]                  [b'500\\\\8\\\\0\\\\0 ']   \n",
       "325   110214.0    [54, 76, 202, 72]  [b'500\\\\8\\\\0\\\\0 ', b'0\\\\8\\\\0\\\\0 ']   \n",
       "326   110214.0    [54, 76, 202, 72]                  [b'500\\\\8\\\\0\\\\0 ']   \n",
       "327   110214.0    [54, 76, 202, 72]                  [b'500\\\\8\\\\0\\\\0 ']   \n",
       "343   145538.0  [106, 143, 227, 72]  [b'0\\\\8\\\\0\\\\0 ', b'500\\\\8\\\\0\\\\0 ']   \n",
       "344   145538.0  [106, 143, 227, 72]                  [b'500\\\\8\\\\0\\\\0 ']   \n",
       "345   145538.0  [106, 143, 227, 72]                  [b'500\\\\8\\\\0\\\\0 ']   \n",
       "\n",
       "           coil name        manufacturer modality model name  n_files  \\\n",
       "255  EIS_eCoil Torso  GE MEDICAL SYSTEMS       MR  SIGNA HDx       24   \n",
       "256  EIS_eCoil Torso  GE MEDICAL SYSTEMS       MR  SIGNA HDx       12   \n",
       "257  EIS_eCoil Torso  GE MEDICAL SYSTEMS       MR  SIGNA HDx       12   \n",
       "325  EIS_eCoil Torso  GE MEDICAL SYSTEMS       MR  SIGNA HDx       24   \n",
       "326  EIS_eCoil Torso  GE MEDICAL SYSTEMS       MR  SIGNA HDx       12   \n",
       "327  EIS_eCoil Torso  GE MEDICAL SYSTEMS       MR  SIGNA HDx       12   \n",
       "343  EIS_eCoil Torso  GE MEDICAL SYSTEMS       MR  SIGNA HDx       40   \n",
       "344  EIS_eCoil Torso  GE MEDICAL SYSTEMS       MR  SIGNA HDx       20   \n",
       "345  EIS_eCoil Torso  GE MEDICAL SYSTEMS       MR  SIGNA HDx       20   \n",
       "\n",
       "     patient id     pixel spacing                protocol  \\\n",
       "255    20811956  [1.0938, 1.0938]  PRO DCE DWI 08-21-08/7   \n",
       "256    20811956  [1.0938, 1.0938]  PRO DCE DWI 08-21-08/7   \n",
       "257    20811956  [1.0938, 1.0938]  PRO DCE DWI 08-21-08/7   \n",
       "325    22936470  [0.7031, 0.7031]  PRO DCE DWI 08-21-08/7   \n",
       "326    22936470  [0.7031, 0.7031]  PRO DCE DWI 08-21-08/7   \n",
       "327    22936470  [0.7031, 0.7031]  PRO DCE DWI 08-21-08/7   \n",
       "343    23263130  [0.5469, 0.5469]  PRO DCE DWI 08-21-08/7   \n",
       "344    23263130  [0.5469, 0.5469]  PRO DCE DWI 08-21-08/7   \n",
       "345    23263130  [0.5469, 0.5469]  PRO DCE DWI 08-21-08/7   \n",
       "\n",
       "                             series description  series number  \\\n",
       "255            Ax DWI b500 5mm 28cm no assett#2              7   \n",
       "256  Exponential Apparent Diffusion Coefficient            700   \n",
       "257      Apparent Diffusion Coefficient (mm?/s)            701   \n",
       "325            Ax DWI b500 5mm 28cm no assett#2              7   \n",
       "326  Exponential Apparent Diffusion Coefficient            700   \n",
       "327      Apparent Diffusion Coefficient (mm?/s)            701   \n",
       "343            Ax DWI b500 5mm 28cm no assett#2              7   \n",
       "344  Exponential Apparent Diffusion Coefficient            700   \n",
       "345      Apparent Diffusion Coefficient (mm?/s)            701   \n",
       "\n",
       "                                                  series uid  slice tickness  \\\n",
       "255  1.2.840.113619.2.207.3596.11861984.25740.1219404288.433             5.0   \n",
       "256            1.2.840.113619.2.5.20201724.700.1219413018.36             5.0   \n",
       "257            1.2.840.113619.2.5.20201724.701.1219413018.36             5.0   \n",
       "325  1.2.840.113619.2.207.3596.11861984.28291.1221219271.120             5.0   \n",
       "326           1.2.840.113619.2.5.20212322.700.1221232953.184             5.0   \n",
       "327           1.2.840.113619.2.5.20212322.701.1221232953.184             5.0   \n",
       "343  1.2.840.113619.2.207.3596.11861984.26783.1222857779.633             3.0   \n",
       "344           1.2.840.113619.2.5.20231616.700.1222889304.615             3.0   \n",
       "345           1.2.840.113619.2.5.20231616.701.1222889304.615             3.0   \n",
       "\n",
       "    station study description  \\\n",
       "255   MR23T      PELVIS W&W/O   \n",
       "256   MR23T      PELVIS W&W/O   \n",
       "257   MR23T      PELVIS W&W/O   \n",
       "325   MR23T      PELVIS W&W/O   \n",
       "326   MR23T      PELVIS W&W/O   \n",
       "327   MR23T      PELVIS W&W/O   \n",
       "343   MR23T      PELVIS W&W/O   \n",
       "344   MR23T      PELVIS W&W/O   \n",
       "345   MR23T      PELVIS W&W/O   \n",
       "\n",
       "                                                  study uid  \n",
       "255   1.2.124.113532.170.223.162.178.20080819.65852.4482573  \n",
       "256   1.2.124.113532.170.223.162.178.20080819.65852.4482573  \n",
       "257   1.2.124.113532.170.223.162.178.20080819.65852.4482573  \n",
       "325  1.2.124.113532.170.223.162.178.20080908.163740.4606264  \n",
       "326  1.2.124.113532.170.223.162.178.20080908.163740.4606264  \n",
       "327  1.2.124.113532.170.223.162.178.20080908.163740.4606264  \n",
       "343   1.2.124.113532.170.223.162.178.20080926.92304.4731665  \n",
       "344   1.2.124.113532.170.223.162.178.20080926.92304.4731665  \n",
       "345   1.2.124.113532.170.223.162.178.20080926.92304.4731665  "
      ]
     },
     "execution_count": 20,
     "metadata": {},
     "output_type": "execute_result"
    }
   ],
   "source": [
    "dwi_info_df.loc[(dwi_info_df['protocol']=='PRO DCE DWI 08-21-08/7') &(~dwi_info_df['patient id'].isin(warning_patients_dwi))]"
   ]
  },
  {
   "cell_type": "code",
   "execution_count": null,
   "metadata": {
    "collapsed": true
   },
   "outputs": [],
   "source": []
  },
  {
   "cell_type": "code",
   "execution_count": 18,
   "metadata": {},
   "outputs": [
    {
     "data": {
      "text/plain": [
       "protocol\n",
       "ADC                         11\n",
       "AX DWI Resolve 0-1000        1\n",
       "AX DWI Resolve 0-500         1\n",
       "DCE W T1 MAPPING_/10        24\n",
       "DCE W T1 MAPPING_/8         16\n",
       "DCE W T1 MAPPING_/9         40\n",
       "DCE_DWI T1 MAP MULTI FL/     1\n",
       "DWI Resolve WIP 0-500       12\n",
       "DWI Resolve WIP0-1400       12\n",
       "PRO DCE DWI 08-21-08/7       3\n",
       "PRO DCE DWI/7               28\n",
       "PRO DCE W_T1 MAPPING AN/    63\n",
       "PRO DCE W_T1 MAPPING AND     3\n",
       "PROSTATE DCE  3 27 2013/    12\n",
       "PROSTATE DCE  8 20 2012/    17\n",
       "PROSTATE W BLOCH-SIEGER/     3\n",
       "Prostate With e-coil C-/    11\n",
       "Prostate w/e-coil C-/C+      1\n",
       "Prostate w/o ecoil           1\n",
       "Prostate with coil 11/14     1\n",
       "Prostate with coil102313     1\n",
       "Name: patient id, dtype: int64"
      ]
     },
     "execution_count": 18,
     "metadata": {},
     "output_type": "execute_result"
    }
   ],
   "source": [
    "dwi_info_df.loc[~dwi_info_df['patient id'].isin(warning_patients_dwi)].groupby('protocol')['patient id'].nunique()"
   ]
  },
  {
   "cell_type": "code",
   "execution_count": null,
   "metadata": {
    "collapsed": true
   },
   "outputs": [],
   "source": [
    "pu_opt_patients = dwi_info_all.loc[dwi_info['series description'].str.contains('pu|opt',case=False),'patient id'].unique()"
   ]
  },
  {
   "cell_type": "code",
   "execution_count": null,
   "metadata": {
    "collapsed": true
   },
   "outputs": [],
   "source": []
  },
  {
   "cell_type": "code",
   "execution_count": null,
   "metadata": {
    "collapsed": true
   },
   "outputs": [],
   "source": [
    "set([str(patient)for patient in pu_opt_patients])"
   ]
  },
  {
   "cell_type": "code",
   "execution_count": null,
   "metadata": {
    "collapsed": true
   },
   "outputs": [],
   "source": [
    "set(warning_adc_patients) - set([str(patient)for patient in pu_opt_patients])"
   ]
  },
  {
   "cell_type": "code",
   "execution_count": null,
   "metadata": {
    "collapsed": true
   },
   "outputs": [],
   "source": [
    "dwi_info_all.loc[dwi_info_all['patient id']==14429740]"
   ]
  }
 ],
 "metadata": {
  "kernelspec": {
   "display_name": "Python 3",
   "language": "python",
   "name": "python3"
  },
  "language_info": {
   "codemirror_mode": {
    "name": "ipython",
    "version": 3
   },
   "file_extension": ".py",
   "mimetype": "text/x-python",
   "name": "python",
   "nbconvert_exporter": "python",
   "pygments_lexer": "ipython3",
   "version": "3.6.1"
  }
 },
 "nbformat": 4,
 "nbformat_minor": 2
}
